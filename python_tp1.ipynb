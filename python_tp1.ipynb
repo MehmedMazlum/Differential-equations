{
 "cells": [
  {
   "cell_type": "markdown",
   "metadata": {},
   "source": [
    "\n",
    "# Systèmes d'équations linéaires\n",
    "\n",
    "**Dans ce tp nous allons introduire les fonctions Python utiles pour étudier des systèmes linéaires **\n",
    "\n",
    "## Le premier système\n",
    "\n",
    "$$\\begin{cases}\n",
    "    x'&=3x-2y\\\\\n",
    "    y'&=2x-2y\n",
    "\\end{cases}$$\n",
    "\n",
    "Ce que l'on peut écrire sous la forme\n",
    "$$X'=F(X)\\qquad\\text{avec}\\qquad X=\\begin{bmatrix}x\\\\y\\end{bmatrix}\\quad\\text{ et }\\quad F\\begin{bmatrix}a\\\\b\\end{bmatrix}\\mapsto\\begin{bmatrix}3a-2b\\\\2a-2b\\end{bmatrix}\n",
    "$$\n",
    "On peut aussi écrire $F$ sous la forme matricielle\n",
    "$$\\begin{bmatrix}3&-2\\\\2&-2\\end{bmatrix} $$\n",
    "\n",
    "\n",
    "### Champs de vecteurs associé\n",
    "On va tracer le champs de vecteurs associé à cette équation\n",
    "\n",
    "#### Le préambule\n",
    "On importe les modules dont on va avoir besoin.\n",
    "\n",
    "Pour ce premier tp j'ai écrit des fonctions de haut niveau pour faciliter votre travail.\n",
    "\n",
    "**Vous n'avez pas besoin de comprendre cette fois ci comment sont écrites ces fonctions **\n",
    "\n"
   ]
  },
  {
   "cell_type": "code",
   "execution_count": null,
   "metadata": {
    "collapsed": false
   },
   "outputs": [],
   "source": [
    "import numpy as np\n",
    "import matplotlib.pyplot as plt\n",
    "from pylab import *\n",
    "from scipy.integrate import odeint \n",
    "%matplotlib inline\n",
    "\n",
    "\n",
    "def solutionner(F,Init,tmin,tmax,nbpas=200,args=()):\n",
    "    t=np.linspace(tmin,tmax,nbpas,dtype=np.float16)\n",
    "    Sol=np.float16(odeint(F,Init,t,args))\n",
    "    Sol=Sol.T\n",
    "    return t, Sol\n",
    "\n",
    "def norme(a,b):\n",
    "    return sqrt(a*a+b*b)+0.000001 #on empeche la norme de devenir nulle\n",
    "\n",
    "def carquois(F,xmin,xmax,ymin,ymax,nbpas=30j,args=()):\n",
    "    Y,X=np.mgrid[ymin:ymax:nbpas,xmin:xmax:nbpas]\n",
    "    if args==():\n",
    "        U,V=np.float16(F([X,Y],0))\n",
    "    else:\n",
    "        U,V=np.float16(F([X,Y],0,args))\n",
    "   \n",
    "    Un,Vn=U/np.float16(norme(U,V)), np.float16(V/norme(U,V))   \n",
    "    quiver(X,Y,Un,Vn,\n",
    "        norme(U,V),                # couleur liee a la vitesse\n",
    "        cmap=cm.winter,pivot='middle',linewidth=0.1)\n",
    "    plt.xlim(xmin,ymax)\n",
    "    plt.ylim(ymin,ymax)\n",
    "    del X,Y,U,V,Un,Vn\n",
    "    \n",
    "\n",
    "def flux(F,xmin,xmax,ymin,ymax,nbpas=30j,densite=2,epaisseur=3,args=()):\n",
    "    Y,X=np.mgrid[ymin:ymax:nbpas,xmin:xmax:nbpas]\n",
    "    if args==():\n",
    "        U,V=np.float16(F([X,Y],0))\n",
    "    else:\n",
    "        U,V=F([X,Y],0,args)\n",
    "    vitesse=np.float16(norme(U,V))\n",
    "    vitesse=vitesse/vitesse.max()\n",
    "    plt.streamplot(X,Y,U,V,\n",
    "               color=vitesse,\n",
    "               linewidth=epaisseur,\n",
    "               cmap=plt.cm.winter,\n",
    "               density=densite)\n",
    "    plt.xlim(xmin,ymax)\n",
    "    plt.ylim(ymin,ymax)\n",
    "    del X,Y,U,V,vitesse"
   ]
  },
  {
   "cell_type": "markdown",
   "metadata": {},
   "source": [
    "On définit la fonction associée à cette équation\n",
    "On peut remarquer que l'on doit inclure la variable temps et que les listes sont numérotées à partir de 0\n"
   ]
  },
  {
   "cell_type": "code",
   "execution_count": null,
   "metadata": {
    "collapsed": false
   },
   "outputs": [],
   "source": [
    "def F (X,t):\n",
    "    return 3*X[0]-2*X[1],2*X[0]-2*X[1]\n"
   ]
  },
  {
   "cell_type": "markdown",
   "metadata": {},
   "source": [
    "Et on affiche le champs de vecteurs avec la fonction **carquois** (qui veut dire __sandak/okluk __ ).\n",
    "\n",
    "Cette fonction demande quatre agruments principaux la fonction $F$ associée à l'équation différentielles, le xmin, le xmax le ymin et le ymax\n"
   ]
  },
  {
   "cell_type": "code",
   "execution_count": null,
   "metadata": {
    "collapsed": false
   },
   "outputs": [],
   "source": [
    "#taille de la figure\n",
    "plt.figure(figsize=(17,15))\n",
    "\n",
    "carquois(F,-4,4,-4,4)\n",
    "\n",
    "plt.xlabel('x')\n",
    "plt.ylabel('y')\n",
    "plt.colorbar()\n",
    "plt.title('Le champs de vecteurs')\n"
   ]
  },
  {
   "cell_type": "markdown",
   "metadata": {},
   "source": [
    "### Ajout de solutions approchées\n",
    "On va utiliser **solutionner** pour calculer des solutions approchées de l'équation.\n",
    "\n",
    "**solutioner(F,Init,tmin,tmax)\n",
    "\n",
    "Cette fonction recoit comme argument\n",
    "    - **F** la fonction définissant l'équation différentielle\n",
    "    -**Init** les conditions initiales sous forme d'un tableau\n",
    "    - **tmin** l'instant initial\n",
    "    - **tmax** l'instant final\n",
    "    "
   ]
  },
  {
   "cell_type": "code",
   "execution_count": null,
   "metadata": {
    "collapsed": false
   },
   "outputs": [],
   "source": [
    "\n",
    "#mise en place de la figure\n",
    "plt.figure(figsize=(15,15))\n",
    "plt.xlabel('x')\n",
    "plt.ylabel('y')\n",
    "plt.title('Une solution')\n",
    "plt.xlim(-4,4)\n",
    "plt.ylim(-4,4)\n",
    "\n",
    "#resolution\n",
    "t,[x,y]=solutionner(F,[1,3],0,10)\n",
    "\n",
    "\n",
    "#on dessine *x(t)* et *y(t)* sous forme d'une courbe paramétrée\n",
    "plt.plot(x,y)\n",
    "\n",
    "\n",
    "\n"
   ]
  },
  {
   "cell_type": "markdown",
   "metadata": {},
   "source": [
    "**Exercice** modifier le programme précédent pour que lui affiche $x$ en fonction du temps, puis $y$ en fonction du temps."
   ]
  },
  {
   "cell_type": "code",
   "execution_count": null,
   "metadata": {
    "collapsed": true
   },
   "outputs": [],
   "source": []
  },
  {
   "cell_type": "markdown",
   "metadata": {},
   "source": [
    "### Affichage d'une série de solution\n",
    "On va utiliser une boucle **for** pour afficher toute une série de solution\n"
   ]
  },
  {
   "cell_type": "code",
   "execution_count": null,
   "metadata": {
    "collapsed": false
   },
   "outputs": [],
   "source": [
    "#mise en place de la figure\n",
    "plt.figure(figsize=(15,15))\n",
    "plt.xlabel('x')\n",
    "plt.ylabel('y')\n",
    "plt.title('Une solution')\n",
    "plt.xlim(-4,4)\n",
    "plt.ylim(-4,4)\n",
    "\n",
    "for i in range(1,6,1):\n",
    "    #resolution\n",
    "    t,[x,y]=solutionner(F,[1,i*0.5],0,10)\n",
    "    #on dessine *x(t)* et *y(t)* sous forme d'une courbe paramétrée\n",
    "    plt.plot(x,y)\n",
    "    \n",
    "plt.show()"
   ]
  },
  {
   "cell_type": "markdown",
   "metadata": {},
   "source": [
    "Affichons simultanément plusieurs solutions et le champs de vecteurs"
   ]
  },
  {
   "cell_type": "code",
   "execution_count": null,
   "metadata": {
    "collapsed": false
   },
   "outputs": [],
   "source": [
    "#mise en place du graphe\n",
    "plt.figure(figsize=(15,15))\n",
    "plt.xlim(-4,4)\n",
    "plt.ylim(-4,4)\n",
    "\n",
    "plt.xlabel('x')\n",
    "plt.ylabel('y')\n",
    "plt.title('des solutions')\n",
    "\n",
    "#tracer des solutions\n",
    "\n",
    "#resolution 1\n",
    "t,[x,y]=solutionner(F,[1,3],0,10)\n",
    "#on dessine *x(t)* et *y(t)* sous forme d'une courbe paramétrée\n",
    "plt.plot(x,y)\n",
    "\n",
    "#resolution 1\n",
    "tp,[xp,yp]=solutionner(F,[2.1,4],0,10)\n",
    "#on dessine *x(t)* et *y(t)* sous forme d'une courbe paramétrée\n",
    "plt.plot(xp,yp)\n",
    "\n",
    "#champs de vecteurs\n",
    "carquois(F,-4,4,-4,4)\n"
   ]
  },
  {
   "cell_type": "markdown",
   "metadata": {},
   "source": [
    "** Exercices ** \n",
    "\n",
    " -Modifier le script précédent pour que la solution bleue traverse tout le graphe.\n",
    " \n",
    " -Sur le même graphe rajouter les deux autres types de solution.\n",
    " \n",
    " -Essayer de modifier les conditions initiales pour obtenir une trajectoire droite. Pourquoi n'obtient'on qu'une demi-droite.\n",
    "\n",
    "\n",
    "### Rajout des espaces propres et des tangentes particulières\n"
   ]
  },
  {
   "cell_type": "code",
   "execution_count": null,
   "metadata": {
    "collapsed": false
   },
   "outputs": [],
   "source": [
    "\n",
    "\n",
    "#mise en place du graphe\n",
    "plt.figure(figsize=(17,15))\n",
    "\n",
    "\n",
    "plt.xlabel('x')\n",
    "plt.ylabel('y')\n",
    "plt.title('des solutions et des espaces propres')\n",
    "\n",
    "\n",
    "\n",
    "#tracer des espaces propres\n",
    "xpropre=np.linspace(-4,4,100)\n",
    "plt.plot(xpropre,0.5*xpropre,linewidth=2)\n",
    "plt.plot(xpropre,2*xpropre,linewidth=2)\n",
    "\n",
    "#champs de vecteurs\n",
    "carquois(F,-4,4,-4,4) \n",
    "plt.colorbar()"
   ]
  },
  {
   "cell_type": "markdown",
   "metadata": {},
   "source": [
    "**Exercices** Sur le même graphe tracer le lieu des tangentes verticales et des tangentes horizontales. \n",
    "\n",
    "\n",
    "### Flot des solutions\n",
    "On va demander à Python de tracer pleins de solutions pour recouvrir le plan. On va utiliser la fonction **flux** elle demande les même arguments principaux que **carquois**"
   ]
  },
  {
   "cell_type": "code",
   "execution_count": null,
   "metadata": {
    "collapsed": false
   },
   "outputs": [],
   "source": [
    "\n",
    "#mise en place du graphe\n",
    "plt.figure(figsize=(15,15))\n",
    "plt.xlabel('x')\n",
    "plt.ylabel('y')\n",
    "plt.title('le flux des solutions')\n",
    "\n",
    "flux(F,-4,4,-4,4)\n"
   ]
  },
  {
   "cell_type": "markdown",
   "metadata": {
    "collapsed": true
   },
   "source": [
    "###  Deuxième problème, ajout d'un paramètre\n",
    "\n",
    "On va étudier\n",
    "$$\\begin{cases}\n",
    "    x'&=x+(a-1)y\\\\\n",
    "    y'&=-x+(a+1)y\n",
    "\\end{cases}$$ \n",
    "où $a$ est un paramètre\n",
    "\n",
    "La fonction qui va servir pour la suite est donc définie par\n"
   ]
  },
  {
   "cell_type": "code",
   "execution_count": null,
   "metadata": {
    "collapsed": false
   },
   "outputs": [],
   "source": [
    "def F2(X,t,a):\n",
    "    return X[0]+(a-1)*X[1],-X[0]+(a+1)*X[1]\n"
   ]
  },
  {
   "cell_type": "markdown",
   "metadata": {},
   "source": [
    "On va maintenant utiliser **solutionner** en transmettrant le paramètre\n",
    "\n",
    "**ATTENTION A LA VIRGULE SUPPLEMENTAIRE dans les parametres**"
   ]
  },
  {
   "cell_type": "code",
   "execution_count": null,
   "metadata": {
    "collapsed": false
   },
   "outputs": [],
   "source": [
    "t,[x,y]=solutionner(F2,[0.1,0.3],0,10,args=(0.5,))\n",
    "plt.figure(figsize=(15,15))\n",
    "\n",
    "plt.xlabel('x')\n",
    "plt.ylabel('y')\n",
    "plt.title('une solution')\n",
    "\n",
    "plt.plot(x,y)\n",
    "plt.xlim(-4,4)\n",
    "plt.ylim(-4,4)\n",
    "\n",
    "# et ici pas de virgule\n",
    "carquois(F2,-4,4,-4,4,args=(0.5))\n"
   ]
  },
  {
   "cell_type": "markdown",
   "metadata": {},
   "source": [
    "Utilisez ce qui a été vu précédemment pour étudier cette équation dans les cas\n",
    "\n",
    "* $a=1$\n",
    "\n",
    "* $a=-2$ \n",
    "\n",
    "* $a=2$ \n",
    "\n",
    "* $a=4$ \n",
    "\n",
    "\n",
    "\n"
   ]
  },
  {
   "cell_type": "code",
   "execution_count": null,
   "metadata": {
    "collapsed": true
   },
   "outputs": [],
   "source": []
  }
 ],
 "metadata": {
  "kernelspec": {
   "display_name": "Python 2",
   "language": "python",
   "name": "python2"
  },
  "language_info": {
   "codemirror_mode": {
    "name": "ipython",
    "version": 2
   },
   "file_extension": ".py",
   "mimetype": "text/x-python",
   "name": "python",
   "nbconvert_exporter": "python",
   "pygments_lexer": "ipython2",
   "version": "2.7.11"
  }
 },
 "nbformat": 4,
 "nbformat_minor": 0
}
