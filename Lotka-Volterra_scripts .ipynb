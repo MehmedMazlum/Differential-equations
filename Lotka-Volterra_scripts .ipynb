{
 "cells": [
  {
   "cell_type": "markdown",
   "metadata": {},
   "source": [
    "# Le modèle de Lokta et Volterra"
   ]
  },
  {
   "cell_type": "markdown",
   "metadata": {},
   "source": [
    "## l'équation\n",
    "C'est l'un des premiers modèles utilisé pour étudier la dynamique des populations. Il a été utilisé pour décrire l'évolution des populations de poissons.\n",
    "\n",
    "On considère deux populations. La population $x$ représente les proies (_ kurban _) et la population $y$ représente les prédateurs (_avcı_).\n",
    "\n",
    "$$\\begin{cases}\n",
    "    x'(t)&=ax(t)-bx(t)y(t)\\\\\n",
    "    y'(t)&=-my(t)+nx(t)y(t)\n",
    "\\end{cases}\n",
    "$$\n",
    "\n",
    "\n",
    "* $a$ désigne le taux de reproduction de l'espèce \"proies\", c'est-à-dire le nombre de descendant pour un individu donc $ax$ represente le nombre de descendants.\n",
    "\n",
    "* $b$ désigne le taux de mortalités des prois, a cause de la prédation. $ax$ représente le nombre de proies tuées par un prédateur.\n",
    "\n",
    "** Question ** que représente $axy$?\n",
    "\n",
    "* $m$ représente le taux de mortalité des prédateurs.\n",
    "\n",
    "**Question ** que représente $mx$ ? Quelle hypothèse fait on sur la population de prédateur?\n",
    "\n",
    "* $n$ représente le taux de reproduction des prédateurs, cette reproduction est liée au nombre de proies, (ie la nourriture) disponible. $nx$ est le nombre de descendants pour un prédateur.\n",
    "\n",
    "**Question** Que représente $nxy$\n",
    "\n",
    "**Question** Quand on a décidé que le nombre de descendants de l'espèce \"proies\" est égale à $ax$ quelles hypothèses à t 'on fait.\n",
    "\n",
    "\n",
    "## Le préambule\n",
    "\n",
    "Comme la dernière fois on a écrit des fonctions pour faciliter votre TP"
   ]
  },
  {
   "cell_type": "code",
   "execution_count": null,
   "metadata": {
    "collapsed": false
   },
   "outputs": [],
   "source": [
    "import numpy as np\n",
    "import matplotlib.pyplot as plt\n",
    "from pylab import *\n",
    "from scipy.integrate import odeint \n",
    "%matplotlib inline\n",
    "\n",
    "\n",
    "def solutionner(F,Init,tmin,tmax,nbpas=500,args=()):\n",
    "    t=np.linspace(tmin,tmax,nbpas,dtype=np.float16)\n",
    "    Sol=np.float16(odeint(F,Init,t,args))\n",
    "    Sol=Sol.T\n",
    "    return t, Sol\n",
    "\n",
    "def norme(a,b):\n",
    "    return sqrt(a*a+b*b)+0.000001 #on empeche la norme de devenir nulle\n",
    "\n",
    "def carquois(F,xmin,xmax,ymin,ymax,nbpas=30j,args=()):\n",
    "    Y,X=np.mgrid[ymin:ymax:nbpas,xmin:xmax:nbpas]\n",
    "    if args==():\n",
    "        U,V=np.float16(F([X,Y],0))\n",
    "    else:\n",
    "        U,V=np.float16(F([X,Y],0,args))\n",
    "   \n",
    "    Un,Vn=U/np.float16(norme(U,V)), np.float16(V/norme(U,V))   \n",
    "    quiver(X,Y,Un,Vn,\n",
    "        norme(U,V),                # couleur liee a la vitesse\n",
    "        cmap=cm.winter,pivot='middle',linewidth=0.1)\n",
    "    plt.xlim(xmin,ymax)\n",
    "    plt.ylim(ymin,ymax)\n",
    "    del X,Y,U,V,Un,Vn\n",
    "    \n",
    "\n",
    "def flux(F,xmin,xmax,ymin,ymax,nbpas=30j,densite=2,epaisseur=3,args=()):\n",
    "    Y,X=np.mgrid[ymin:ymax:nbpas,xmin:xmax:nbpas]\n",
    "    if args==():\n",
    "        U,V=np.float16(F([X,Y],0))\n",
    "    else:\n",
    "        U,V=F([X,Y],0,args)\n",
    "    vitesse=np.float16(norme(U,V))\n",
    "    vitesse=vitesse/vitesse.max()\n",
    "    plt.streamplot(X,Y,U,V,\n",
    "               color=vitesse,\n",
    "               linewidth=epaisseur,\n",
    "               cmap=plt.cm.winter,\n",
    "               density=densite)\n",
    "    plt.xlim(xmin,ymax)\n",
    "    plt.ylim(ymin,ymax)\n",
    "    del X,Y,U,V,vitesse"
   ]
  },
  {
   "cell_type": "markdown",
   "metadata": {},
   "source": [
    "La première ligne **import numpy as np** nous permet d'accéder au module **numpy**. C'est l'équivalent de l'inclusion de librairie **#include < .h>** en C. En python on peut préciser le nouveau nom du module c'est le sens de **as np**. numpy est l'abbréviation de calcul *num*érique en *py*thon.\n",
    "\n",
    "On importe aussi le sous module **pyplot**  module du module **matplotlib**.\n",
    "Dans le module *scipy.integrate* nous n'allons utiliser pour le moment que la fonction **odeint**"
   ]
  },
  {
   "cell_type": "markdown",
   "metadata": {},
   "source": [
    "## Première résolution\n",
    "On commence par écrire cette équation différentielle comme une une équation du première ordre portant sur des matrices\n",
    "$$\\dot{X}(t)=F(X)\\qquad X=\\begin{pmatrix} x(t)\\\\\\ y(t)\\end{pmatrix}\\qquad F\\left(\\begin{pmatrix} u\\\\v\\end{pmatrix}\\right)=\\begin{pmatrix} au-buv\\\\-mv+nuv\\end{pmatrix}$$\n",
    "\n",
    "**Question ** A-ton le droit d'appliquer le théorème de Cauchy-Lipschitz pour ce probleme? Quelle est la forme d'une condition initiale?\n",
    "\n",
    "On définie la fonction pyhton de manièere tres proche de celle que l'on vient d'écrire, on transmet en plus les paramètres sous forme d'un tableau.\n",
    "\n",
    "** Remarques ** Contrairement au langage C le corps de la fonction n'est pas délimité par des { } mais par l'indentation !"
   ]
  },
  {
   "cell_type": "code",
   "execution_count": null,
   "metadata": {
    "collapsed": false
   },
   "outputs": [],
   "source": [
    "def F(X,t,args):\n",
    "    a=args[0]\n",
    "    b=args[1]\n",
    "    m=args[2]\n",
    "    n=args[3]\n",
    "    return a*X[0]-b*X[0]*X[1],-m*X[1]+n*X[0]*X[1]\n",
    "    "
   ]
  },
  {
   "cell_type": "markdown",
   "metadata": {},
   "source": [
    "On remarque que les paramètres sont transmis sous forme d'un tableau. et que même si l'équation ne dépend pas du temps (elle est dite **autonome**) la fonction doit avoir $t$ comme argument.\n",
    "\n",
    "Les paramétres suivants ont été tirés d'un cours de dynamique des populations"
   ]
  },
  {
   "cell_type": "code",
   "execution_count": null,
   "metadata": {
    "collapsed": false
   },
   "outputs": [],
   "source": [
    "parametres=[0.5,0.002,0.4,0.004]"
   ]
  },
  {
   "cell_type": "markdown",
   "metadata": {},
   "source": [
    "On résoud l'équation avec **solutionner**"
   ]
  },
  {
   "cell_type": "code",
   "execution_count": null,
   "metadata": {
    "collapsed": false
   },
   "outputs": [],
   "source": [
    "t,[x,y]=solutionner(F,[150,100],0,20,args=(parametres,))"
   ]
  },
  {
   "cell_type": "markdown",
   "metadata": {},
   "source": [
    "On peut maintenant afficher la solution\n",
    "\n",
    "On va l'afficher dans l'espace des phases c'est à dire que $x$ est en abscisse et $y$ en ordonnées.\n",
    "\n",
    "Puis on trace un deuxième graphe en mettant le temps en abscisse et $x$ et $y$ en ordonnée simultanément."
   ]
  },
  {
   "cell_type": "code",
   "execution_count": null,
   "metadata": {
    "collapsed": false
   },
   "outputs": [],
   "source": [
    "plt.figure(figsize=(20,20))\n",
    "#taille de la figure \n",
    "plt.subplot(1,2, 1)\n",
    "plt.plot(x,y)\n",
    "plt.xlabel('proies')\n",
    "plt.ylabel('predateurs')\n",
    "plt.title('espace des phases')\n",
    "plt.subplot(1,2, 2)\n",
    "#les proies en bleue\n",
    "plt.plot(t,x)\n",
    "#les prédateurs en vert\n",
    "plt.plot(t,y)\n",
    "plt.xlabel('temps')\n",
    "plt.ylabel('proies et predateurs')\n",
    "plt.title('en fonction du temps')\n",
    "\n"
   ]
  },
  {
   "cell_type": "markdown",
   "metadata": {},
   "source": [
    "**Question** Les solutions sont elles périodiques?\n",
    "**Question** Pourquoi observe-t'on un décalage entre les deux pics de populations?\n",
    "\n",
    "\n",
    "\n",
    "## Application\n",
    "-augmenter le paramètre $a$ de 50 %, que se passe-t'il quelle est l'interprétation biologique.\n",
    "\n",
    "-reprendre la valeur initiale de $a$ et faire augmenter la valeur de $b$ de 50%. Que se passe t 'il?\n",
    "\n",
    "-reprendre la valeur initiale de $a$ et $b$ et faire varier $m$ de -50%, que se passe t'il?\n",
    "\n"
   ]
  },
  {
   "cell_type": "code",
   "execution_count": null,
   "metadata": {
    "collapsed": false
   },
   "outputs": [],
   "source": []
  },
  {
   "cell_type": "markdown",
   "metadata": {},
   "source": [
    "## Variation de la condition initiale\n",
    "### Dans l'espace  des phases"
   ]
  },
  {
   "cell_type": "code",
   "execution_count": null,
   "metadata": {
    "collapsed": false
   },
   "outputs": [],
   "source": [
    "\n",
    "plt.figure(figsize=(20,10))\n",
    "for xinit in np.arange(10,100,5):\n",
    "    t,[x,y]=solutionner(F,[xinit,xinit],0,15,args=(parametres,))\n",
    "    plt.plot(x,y)\n",
    "   \n",
    "plt.xlabel('proies')\n",
    "plt.ylabel('predateurs')"
   ]
  },
  {
   "cell_type": "markdown",
   "metadata": {},
   "source": [
    "** Question ** représenter le graphe temps/proies en variant les conditions initiales\n",
    "\n",
    "\n"
   ]
  },
  {
   "cell_type": "code",
   "execution_count": null,
   "metadata": {
    "collapsed": false
   },
   "outputs": [],
   "source": []
  },
  {
   "cell_type": "markdown",
   "metadata": {},
   "source": [
    "## Autres représentations\n",
    "### Champs de vecteurs\n",
    "On va représenter le champs de vecteurs associée a chacune des équations. \n",
    "$$ X'=F(X,t)$$\n",
    "La fonction $(x,y)\\mapsto F(x,y)$ va nous donner les vecteurs tangents aux courbes.\n",
    "On utilise pour cela la fonction **quiver**"
   ]
  },
  {
   "cell_type": "code",
   "execution_count": null,
   "metadata": {
    "collapsed": false
   },
   "outputs": [],
   "source": [
    "plt.figure(figsize=(15,15))\n",
    "carquois(F,0,300,0,300,args=parametres)"
   ]
  },
  {
   "cell_type": "markdown",
   "metadata": {},
   "source": [
    "**Exercice** Sur le graphe précédent faire apparaitre plusieurs solutions"
   ]
  },
  {
   "cell_type": "markdown",
   "metadata": {},
   "source": [
    "###  Flot des solutions\n",
    "On peut aussi tracer plein de courbes solutions grâce à la fonction ** flux**"
   ]
  },
  {
   "cell_type": "code",
   "execution_count": null,
   "metadata": {
    "collapsed": false
   },
   "outputs": [],
   "source": [
    "plt.figure(figsize=(20,20))\n",
    "#onlimite les x et les y\n",
    "plt.xlim(0,1000)\n",
    "plt.ylim(0,1000)\n",
    "flux(F,0,1000,0,1000,args=parametres)\n",
    "\n",
    "plt.colorbar()\n",
    "plt.title('flux des solutions' )\n",
    "plt.show()\n",
    "\n",
    "\n"
   ]
  },
  {
   "cell_type": "markdown",
   "metadata": {},
   "source": [
    "## Recherche des positions d'équilibre\n",
    "\n",
    "**Question ** Sur les graphe précédents on trouve deux positions d'équilibre lesquelles?\n",
    "En utilisant toutes les fonctions précédentes essayez de deviner si ces équilibres sont stables ou instables."
   ]
  },
  {
   "cell_type": "code",
   "execution_count": null,
   "metadata": {
    "collapsed": true
   },
   "outputs": [],
   "source": []
  },
  {
   "cell_type": "markdown",
   "metadata": {},
   "source": [
    "## Amélioration du modèle : équation logistique\n",
    "\n",
    "** Question** Que se passe-t'il si on prend comme condition initiales 100 proies et 0 prédateur\n",
    "est ce réaliste?\n",
    "\n"
   ]
  },
  {
   "cell_type": "code",
   "execution_count": null,
   "metadata": {
    "collapsed": true
   },
   "outputs": [],
   "source": []
  },
  {
   "cell_type": "markdown",
   "metadata": {},
   "source": [
    "On améliore le modèle en modifiant l'équation vérifiée par $x$, \n",
    "\n",
    "\n",
    "$$\\begin{cases}\n",
    "    x'(t)&=a\\left(1-\\dfrac{x(t)} K\\right)x(t)-bx(t)y(t)\\\\\n",
    "    y'(t)&=-my(t)+nx(t)y(t)\n",
    "\\end{cases}\n",
    "$$\n",
    "Dans ce modele que ce passe t'il si $x$ est proche de $K$, que représente $K$\n",
    "\n",
    "\n",
    "**Question ** tracer le flot de solutions, on prendra $K=1000$ et les autres paramètres identiques à ceux du modèle précédent."
   ]
  },
  {
   "cell_type": "code",
   "execution_count": null,
   "metadata": {
    "collapsed": true
   },
   "outputs": [],
   "source": []
  }
 ],
 "metadata": {
  "celltoolbar": "Raw Cell Format",
  "kernelspec": {
   "display_name": "Python 2",
   "language": "python",
   "name": "python2"
  },
  "language_info": {
   "codemirror_mode": {
    "name": "ipython",
    "version": 2
   },
   "file_extension": ".py",
   "mimetype": "text/x-python",
   "name": "python",
   "nbconvert_exporter": "python",
   "pygments_lexer": "ipython2",
   "version": "2.7.11"
  }
 },
 "nbformat": 4,
 "nbformat_minor": 0
}
