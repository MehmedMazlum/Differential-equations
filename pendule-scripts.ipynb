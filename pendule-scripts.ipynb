{
 "cells": [
  {
   "cell_type": "markdown",
   "metadata": {},
   "source": [
    "# Le pendule"
   ]
  },
  {
   "cell_type": "markdown",
   "metadata": {},
   "source": [
    "## l'équation\n",
    "Le mouvement d'un pendule dont la position est repérée par l'angle $\\theta$ est régit par l'équation\n",
    "$$ \\ddot{\\theta}+\\omega^2 \\sin \\theta =0$$\n",
    "où $\\omega$ est un paramètre.\n",
    "\n",
    "## Le préambule"
   ]
  },
  {
   "cell_type": "code",
   "execution_count": null,
   "metadata": {
    "collapsed": false
   },
   "outputs": [],
   "source": [
    "import numpy as np\n",
    "import matplotlib.pyplot as plt\n",
    "from pylab import *\n",
    "from scipy.integrate import odeint \n",
    "%matplotlib inline\n",
    "\n",
    "\n",
    "def solutionner(F,Init,tmin,tmax,nbpas=200,args=()):\n",
    "    t=np.linspace(tmin,tmax,nbpas,dtype=np.float16)\n",
    "    Sol=np.float16(odeint(F,Init,t,args))\n",
    "    Sol=Sol.T\n",
    "    return t, Sol\n",
    "\n",
    "def norme(a,b):\n",
    "    return sqrt(a*a+b*b)+0.000001 #on empeche la norme de devenir nulle\n",
    "\n",
    "def carquois(F,xmin,xmax,ymin,ymax,nbpas=30j,args=()):\n",
    "    Y,X=np.mgrid[ymin:ymax:nbpas,xmin:xmax:nbpas]\n",
    "    if args==():\n",
    "        U,V=np.float16(F([X,Y],0))\n",
    "    else:\n",
    "        U,V=np.float16(F([X,Y],0,args))\n",
    "   \n",
    "    Un,Vn=U/np.float16(norme(U,V)), np.float16(V/norme(U,V))   \n",
    "    quiver(X,Y,Un,Vn,\n",
    "        norme(U,V),                # couleur liee a la vitesse\n",
    "        cmap=cm.winter,pivot='middle',linewidth=0.1)\n",
    "    plt.xlim(xmin,xmax)\n",
    "    plt.ylim(ymin,ymax)\n",
    "    del X,Y,U,V,Un,Vn\n",
    "    \n",
    "\n",
    "def flux(F,xmin,xmax,ymin,ymax,nbpas=30j,densite=2,epaisseur=3,args=()):\n",
    "    Y,X=np.mgrid[ymin:ymax:nbpas,xmin:xmax:nbpas]\n",
    "    if args==():\n",
    "        U,V=np.float16(F([X,Y],0))\n",
    "    else:\n",
    "        U,V=F([X,Y],0,args)\n",
    "    vitesse=np.float16(norme(U,V))\n",
    "    vitesse=vitesse/vitesse.max()\n",
    "    plt.streamplot(X,Y,U,V,\n",
    "               color=vitesse,\n",
    "               linewidth=epaisseur,\n",
    "               cmap=plt.cm.winter,\n",
    "               density=densite)\n",
    "    plt.xlim(xmin,xmax)\n",
    "    plt.ylim(ymin,ymax)\n",
    "    del X,Y,U,V,vitesse"
   ]
  },
  {
   "cell_type": "markdown",
   "metadata": {},
   "source": [
    "## Première résolution\n",
    "On commence par écrire cette équation différentielle comme une une équation du première ordre portant sur des matrices\n",
    "$$\\dot{X}(t)=F(X,t)\\qquad X=\\begin{pmatrix} \\theta\\\\\\ {\\dot{\\theta}}\\end{pmatrix}\\qquad F\\left(\\begin{pmatrix} a\\\\b\\end{pmatrix},t\\right)=\\begin{pmatrix} b\\\\-\\omega^2 sin(a)\\end{pmatrix}$$\n",
    "\n",
    "**Exercice** Completer la fonction ci dessous"
   ]
  },
  {
   "cell_type": "code",
   "execution_count": null,
   "metadata": {
    "collapsed": false
   },
   "outputs": [],
   "source": [
    "def F(X,t,par):\n",
    "    return ,\n",
    "    "
   ]
  },
  {
   "cell_type": "markdown",
   "metadata": {},
   "source": [
    "On va maintenant résoudre l'équation avec la fonction **solutionner**"
   ]
  },
  {
   "cell_type": "code",
   "execution_count": null,
   "metadata": {
    "collapsed": false
   },
   "outputs": [],
   "source": [
    "plt.figure(figsize=(20,10))\n",
    "t,[theta,thetap]=solutionner(F,[1,0.5],0,20,args=(0.5,))\n",
    "#taille de la figure \n",
    "plt.subplot(1,2, 1)\n",
    "plt.plot(theta,thetap)\n",
    "plt.xlabel('position')\n",
    "plt.ylabel('vitesse')\n",
    "\n",
    "plt.subplot(1,2, 2)\n",
    "plt.plot(t,theta)\n",
    "plt.xlabel('temps')\n",
    "plt.ylabel('position')\n",
    "plt.title(' Un pendule')\n",
    "\n"
   ]
  },
  {
   "cell_type": "markdown",
   "metadata": {},
   "source": [
    "\n",
    "## Application\n",
    "Faite varier la vitesse initiale dans l'exemple précédent que se passe-t'il quand la vitesse initiale devient très importante (plus grande que 2)"
   ]
  },
  {
   "cell_type": "code",
   "execution_count": null,
   "metadata": {
    "collapsed": false
   },
   "outputs": [],
   "source": [
    "\n",
    "    \n",
    "    "
   ]
  },
  {
   "cell_type": "markdown",
   "metadata": {},
   "source": [
    "## Variation de la vitesse initiale\n",
    "### Dans l'espace  des phases\n",
    "\n",
    "On veut afficher plusieurs solutions pour des conditions initiales différentes **COMPLETER** le programme suivant."
   ]
  },
  {
   "cell_type": "code",
   "execution_count": null,
   "metadata": {
    "collapsed": false
   },
   "outputs": [],
   "source": [
    "plt.figure(figsize=(20,10))\n",
    "\n",
    "for vinit in np.arange(0,2,0.1):\n",
    "    t,[theta,thetap]=solutionner(F,[np.pi/4,vinit],0,20,args=(0.5,))\n",
    "    #A COMPLETER\n",
    "    \n",
    "   \n",
    "plt.xlabel('position')\n",
    "plt.ylabel('vitesse')"
   ]
  },
  {
   "cell_type": "markdown",
   "metadata": {},
   "source": [
    "### Application\n",
    "\n",
    "Adaptez le script précédent pour obtenir les graphes de l'angle en fonction du temps\n"
   ]
  },
  {
   "cell_type": "code",
   "execution_count": null,
   "metadata": {
    "collapsed": false
   },
   "outputs": [],
   "source": []
  },
  {
   "cell_type": "markdown",
   "metadata": {},
   "source": [
    "## Variation de la position initiale\n",
    "### Dans l'espace  des phases\n",
    "\n",
    "Dans l'espace des phases **écrire** un programme qui affiche plusieurs solutions en faisant varier la position initial (et non pas la vitesse initiale)"
   ]
  },
  {
   "cell_type": "code",
   "execution_count": null,
   "metadata": {
    "collapsed": false
   },
   "outputs": [],
   "source": []
  },
  {
   "cell_type": "markdown",
   "metadata": {},
   "source": [
    "## Comparaison avec la solution \"petits angles\"\n",
    "Si on fait l'hypothèse des petits angles l'équation se transforme en\n",
    "$$\\ddot{\\theta}+\\omega^2=0$$\n",
    "Que l'on sait facilemet résoudre \n",
    "$$\\theta(t)=\\theta(0)cos(\\omega t)+\\dot{\\theta}(0)\\sin(\\omega t)$$\n",
    "Nous allons superposer cette solution avec la soltuion obtenue précédemment pour différentes conditions initiales\n",
    "### Dans l'espace temps/positions"
   ]
  },
  {
   "cell_type": "code",
   "execution_count": null,
   "metadata": {
    "collapsed": false
   },
   "outputs": [],
   "source": [
    "plt.figure(figsize=(20,10))\n",
    "\n",
    "posinit=np.pi/10\n",
    "vinit=0\n",
    "\n",
    "t,[theta,thetap]=solutionner #A COMPLETER\n",
    "\n",
    "theta_approche=posinit*np.cos(t)+vinit*np.sin(t)#solution petits angles\n",
    "plt.plot(t,theta)\n",
    "plt.plot(t,theta_approche)\n",
    "   \n",
    "plt.xlabel('temps')\n",
    "plt.ylabel('position')"
   ]
  },
  {
   "cell_type": "markdown",
   "metadata": {},
   "source": [
    "Faîtes varier la vitesse initiale dan l'exemple précédent, que se passe-t'il ?\n",
    "\n",
    "\n",
    "### Dans l'espace des phases\n",
    "**Adapter** le programme pour tracer les graphes dans l'espace des phases\n"
   ]
  },
  {
   "cell_type": "code",
   "execution_count": null,
   "metadata": {
    "collapsed": false
   },
   "outputs": [],
   "source": []
  },
  {
   "cell_type": "markdown",
   "metadata": {},
   "source": [
    "## Frottements\n",
    "On rajoute des frottements fluides. l'équation du mouvement devient\n",
    "$$ \\ddot{\\theta}+2\\lambda\\omega\\dot{\\theta}+\\omega^2 \\sin \\theta =0$$\n",
    "où $\\omega$ est un paramètre lié à la masse et à la gravité et $\\lambda$ est un facteur de frottements?.\n",
    "\n",
    "Commencer par écrire cette équation différentielle comme une une équation du première ordre portant sur des matrices\n",
    "\n",
    "\n",
    "** A COMPLETER **\n",
    "\n",
    "\n",
    "### Première résolution\n",
    "On doit modifier la fonction F, elle doit accepter maintenant une liste de paramètres. On la nomme Ff pour pouvoir comparer la solution avec et sans frottement\n",
    "\n"
   ]
  },
  {
   "cell_type": "code",
   "execution_count": null,
   "metadata": {
    "collapsed": false
   },
   "outputs": [],
   "source": [
    "def Ff(X,t,par):\n",
    "    omega=par[0]\n",
    "    lamb=par[1]\n",
    "    return X[1] ,-2*lamb*omega*X[1]-omega**2*np.sin(X[0]) # A compléter "
   ]
  },
  {
   "cell_type": "markdown",
   "metadata": {},
   "source": [
    "On peut maintenant résoudre l'équation avec et sans frottement\n",
    "\n",
    "#### temps/positions\n",
    "\n",
    "Dans l'espace temps/positions faire apparaitre une solution avec et une solution sans frottement. Pour les deux solutions on prendra les mêmes conditions initiales"
   ]
  },
  {
   "cell_type": "code",
   "execution_count": null,
   "metadata": {
    "collapsed": false
   },
   "outputs": [],
   "source": [
    "plt.figure(figsize=(20,10))\n",
    "\n",
    "posinit=np.pi/10\n",
    "vinit=1\n",
    "t,[theta,thetap]=solutionner(Ff,[posinit,vinit],0,20,args=([1,0],))\n",
    "tfrot,[thetafrot,thetapfrot]=solutionner(Ff,[posinit,vinit],0,20,args=([1,0.5],))\n",
    "\n",
    "plt.plot(theta,thetap)\n",
    "plt.plot(thetafrot,thetapfrot)   \n",
    "plt.xlabel('position')\n",
    "plt.ylabel('vitesse')"
   ]
  },
  {
   "cell_type": "markdown",
   "metadata": {},
   "source": [
    "#### Dans l'espace des phases\n",
    "\n",
    "**ADAPTER ** le programme suivant pour afficher les mêmes solutions en dans l'espace temps/position"
   ]
  },
  {
   "cell_type": "code",
   "execution_count": null,
   "metadata": {
    "collapsed": false
   },
   "outputs": [],
   "source": []
  },
  {
   "cell_type": "markdown",
   "metadata": {},
   "source": [
    "## Autres représentation\n",
    "### Champs de vecteurs\n",
    "On va représenter le champs de vecteurs associée a chacune des équations. \n",
    "$$ X'=F(X,t)$$\n",
    "La fonction $(x,y)\\mapsto F(x,y)$ va nous donner les vecteurs tangents aux courbes.\n",
    "On utilise pour cela la fonction **carquois**"
   ]
  },
  {
   "cell_type": "code",
   "execution_count": null,
   "metadata": {
    "collapsed": false
   },
   "outputs": [],
   "source": [
    "\n",
    "plt.figure(figsize=(20,20))\n",
    "# tracer du premier graphe\n",
    "ax=plt.subplot(2,1,1)\n",
    "carquois(Ff,-10,10,-10,10,args=([0.5,0]))\n",
    "ax.set_title('sans amortissement' )\n",
    "\n",
    "ax=plt.subplot(2,1,2)\n",
    "carquois(Ff,-10,10,-10,10,args=([0.5,1]))\n",
    "ax.set_title('avec amortissement' )\n",
    "\n",
    "plt.show()"
   ]
  },
  {
   "cell_type": "markdown",
   "metadata": {},
   "source": [
    "**Exercice** Modifier le programme précédent pour centrer autour de l'oeil.\n",
    "\n",
    "**Exercice**\n",
    "Superposer le graphe d'une ou de plusieurs solution avec le champ de vecteur\n"
   ]
  },
  {
   "cell_type": "code",
   "execution_count": null,
   "metadata": {
    "collapsed": false
   },
   "outputs": [],
   "source": []
  },
  {
   "cell_type": "markdown",
   "metadata": {},
   "source": [
    "###  Flot des solutions\n",
    "On peut aussi tracer plein de courbes solutions grace à la fonction ** flux **"
   ]
  },
  {
   "cell_type": "code",
   "execution_count": null,
   "metadata": {
    "collapsed": false
   },
   "outputs": [],
   "source": [
    "plt.figure(figsize=(20,20))\n",
    "\n",
    "\n",
    "# tracer\n",
    "ax=plt.subplot(2,1,1)\n",
    "flux(Ff,-3,9,-3,3,args=([0.5,0]))\n",
    "ax.set_title('sans amortissement' )\n",
    "\n",
    "ax=plt.subplot(2,1,2)\n",
    "flux(Ff,-3,9,-3,3,args=([0.5,0.5]))\n",
    "ax.set_title('avec amortissement' )\n",
    "\n",
    "plt.show()\n",
    "\n",
    "\n"
   ]
  },
  {
   "cell_type": "code",
   "execution_count": null,
   "metadata": {
    "collapsed": true
   },
   "outputs": [],
   "source": []
  }
 ],
 "metadata": {
  "celltoolbar": "Raw Cell Format",
  "kernelspec": {
   "display_name": "Python 2",
   "language": "python",
   "name": "python2"
  },
  "language_info": {
   "codemirror_mode": {
    "name": "ipython",
    "version": 2
   },
   "file_extension": ".py",
   "mimetype": "text/x-python",
   "name": "python",
   "nbconvert_exporter": "python",
   "pygments_lexer": "ipython2",
   "version": "2.7.11"
  }
 },
 "nbformat": 4,
 "nbformat_minor": 0
}
